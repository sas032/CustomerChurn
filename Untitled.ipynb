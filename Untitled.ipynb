{
 "cells": [
  {
   "cell_type": "code",
   "execution_count": 43,
   "metadata": {},
   "outputs": [
    {
     "name": "stdout",
     "output_type": "stream",
     "text": [
      "<class 'pandas.core.frame.DataFrame'>\n",
      "RangeIndex: 7043 entries, 0 to 7042\n",
      "Data columns (total 15 columns):\n",
      "SeniorCitizen                     7043 non-null int64\n",
      "TotalCharges                      7043 non-null float64\n",
      "Partner_Yes                       7043 non-null uint8\n",
      "Dependents_Yes                    7043 non-null uint8\n",
      "PhoneService_Yes                  7043 non-null uint8\n",
      "MultipleLines_No phone service    7043 non-null uint8\n",
      "MultipleLines_Yes                 7043 non-null uint8\n",
      "StreamingTV_Yes                   7043 non-null uint8\n",
      "StreamingMovies_Yes               7043 non-null uint8\n",
      "Contract_One year                 7043 non-null uint8\n",
      "Contract_Two year                 7043 non-null uint8\n",
      "PaperlessBilling_Yes              7043 non-null uint8\n",
      "InternetService_Fiber optic       7043 non-null uint8\n",
      "InternetService_No                7043 non-null uint8\n",
      "Churn_Yes                         7043 non-null uint8\n",
      "dtypes: float64(1), int64(1), uint8(13)\n",
      "memory usage: 199.5 KB\n"
     ]
    },
    {
     "name": "stderr",
     "output_type": "stream",
     "text": [
      "/root/anaconda3/lib/python3.7/site-packages/ipykernel_launcher.py:27: FutureWarning: Method .as_matrix will be removed in a future version. Use .values instead.\n",
      "/root/anaconda3/lib/python3.7/site-packages/sklearn/linear_model/logistic.py:432: FutureWarning: Default solver will be changed to 'lbfgs' in 0.22. Specify a solver to silence this warning.\n",
      "  FutureWarning)\n"
     ]
    },
    {
     "data": {
      "text/plain": [
       "LogisticRegression(C=1.0, class_weight=None, dual=False, fit_intercept=True,\n",
       "                   intercept_scaling=1, l1_ratio=None, max_iter=100,\n",
       "                   multi_class='warn', n_jobs=None, penalty='l2',\n",
       "                   random_state=0, solver='warn', tol=0.0001, verbose=0,\n",
       "                   warm_start=False)"
      ]
     },
     "execution_count": 43,
     "metadata": {},
     "output_type": "execute_result"
    }
   ],
   "source": [
    "# Importing the libraries\n",
    "import numpy as np\n",
    "import matplotlib.pyplot as plt\n",
    "import pandas as pd\n",
    "import seaborn as sns\n",
    "import pickle\n",
    "\n",
    "df = pd.read_csv('dataset.csv')\n",
    "df['TotalCharges']=df['TotalCharges'].replace(r'\\s',np.nan, regex=True)\n",
    "df['TotalCharges']=pd.to_numeric(df['TotalCharges'])\n",
    "\n",
    "fill=df.MonthlyCharges * df.tenure\n",
    "df.TotalCharges.fillna(fill,inplace=True)\n",
    "df.isnull().sum()\n",
    "\n",
    "df=pd.get_dummies(df,columns=['Partner','Dependents','PhoneService','MultipleLines','StreamingTV','StreamingMovies','Contract','PaperlessBilling','InternetService'],drop_first=True)\n",
    "\n",
    "df.drop(['StreamingTV_No internet service','StreamingMovies_No internet service'],axis=1,inplace=True)\n",
    "\n",
    "df.drop('gender',axis=1,inplace=True)\n",
    "df.drop('customerID',axis=1,inplace=True)\n",
    "df.drop(['tenure','MonthlyCharges'],axis=1,inplace=True)\n",
    "df.drop(['OnlineSecurity','OnlineBackup','DeviceProtection','TechSupport','PaymentMethod'],axis=1,inplace=True)\n",
    "df=pd.get_dummies(df,columns=['Churn'],drop_first=True)\n",
    "df.info()\n",
    "\n",
    "X = df.drop('Churn_Yes',axis=1).as_matrix().astype('float')\n",
    "Y = df['Churn_Yes'].ravel()\n",
    "\n",
    "from sklearn.model_selection import train_test_split\n",
    "X_train, X_test, Y_train, Y_test = train_test_split(X, Y ,test_size=0.3, random_state=1)\n",
    "from sklearn.linear_model import LogisticRegression\n",
    "\n",
    "model=LogisticRegression(random_state=0)\n",
    "model.fit(X_train,Y_train)"
   ]
  },
  {
   "cell_type": "code",
   "execution_count": null,
   "metadata": {},
   "outputs": [],
   "source": []
  }
 ],
 "metadata": {
  "kernelspec": {
   "display_name": "Python 3",
   "language": "python",
   "name": "python3"
  },
  "language_info": {
   "codemirror_mode": {
    "name": "ipython",
    "version": 3
   },
   "file_extension": ".py",
   "mimetype": "text/x-python",
   "name": "python",
   "nbconvert_exporter": "python",
   "pygments_lexer": "ipython3",
   "version": "3.7.3"
  }
 },
 "nbformat": 4,
 "nbformat_minor": 2
}
